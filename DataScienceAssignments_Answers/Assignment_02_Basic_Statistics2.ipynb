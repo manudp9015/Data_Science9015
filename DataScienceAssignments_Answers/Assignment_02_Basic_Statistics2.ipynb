{
  "nbformat": 4,
  "nbformat_minor": 0,
  "metadata": {
    "colab": {
      "provenance": []
    },
    "kernelspec": {
      "name": "python3",
      "display_name": "Python 3"
    },
    "language_info": {
      "name": "python"
    }
  },
  "cells": [
    {
      "cell_type": "code",
      "execution_count": null,
      "metadata": {
        "id": "YjGACQMTJ1OP"
      },
      "outputs": [],
      "source": [
        "import numpy as np\n",
        "import scipy.stats as stats"
      ]
    },
    {
      "cell_type": "code",
      "source": [
        "durability_data = np.array([1.13, 1.55, 1.43, 0.92, 1.25, 1.36, 1.32,\n",
        "                             0.85, 1.07, 1.48, 1.20, 1.33, 1.18, 1.22, 1.29])"
      ],
      "metadata": {
        "id": "DcZKuQpuKEoo"
      },
      "execution_count": null,
      "outputs": []
    },
    {
      "cell_type": "markdown",
      "source": [
        "# Part (a): Build 99% Confidence Interval Using Sample Standard Deviation\n",
        "\n",
        "\n",
        "Calculate the Sample Mean\n",
        "\n",
        "Calculate the Sample Standard Deviation\n",
        "\n",
        "Determine the t-value\n",
        "\n",
        "Calculate the Margin of Error\n",
        "\n",
        "Construct the Confidence Interval"
      ],
      "metadata": {
        "id": "mIQ9sOF7K4C1"
      }
    },
    {
      "cell_type": "code",
      "source": [
        "# (a): Confidence Interval using Sample Standard Deviation\n",
        "n = len(durability_data)\n",
        "mean_sample = np.mean(durability_data)\n",
        "std_sample = np.std(durability_data, ddof=1)\n",
        "confidence_level = 0.99\n",
        "\n",
        "# t-value for 99% confidence interval\n",
        "t_value = stats.t.ppf((1 + confidence_level) / 2, n - 1)\n",
        "\n",
        "# Margin of Error\n",
        "margin_of_error_sample = t_value * (std_sample / np.sqrt(n))\n",
        "\n",
        "# Confidence Interval\n",
        "ci_sample = (mean_sample - margin_of_error_sample, mean_sample + margin_of_error_sample)\n",
        "\n",
        "print(\"Part (a): 99% Confidence Interval using Sample Standard Deviation\")\n",
        "print(f\"Sample Mean: {mean_sample:.2f} million characters\")\n",
        "print(f\"Sample Standard Deviation: {std_sample:.2f} million characters\")\n",
        "print(f\"t-value: {t_value:.2f}\")\n",
        "print(f\"Margin of Error: {margin_of_error_sample:.2f} million characters\")\n",
        "print(f\"99% Confidence Interval: {ci_sample}\")"
      ],
      "metadata": {
        "colab": {
          "base_uri": "https://localhost:8080/"
        },
        "id": "qlWMmDHYKPen",
        "outputId": "f13823af-5593-4e10-dfaa-cab9e3773346"
      },
      "execution_count": null,
      "outputs": [
        {
          "output_type": "stream",
          "name": "stdout",
          "text": [
            "Part (a): 99% Confidence Interval using Sample Standard Deviation\n",
            "Sample Mean: 1.24 million characters\n",
            "Sample Standard Deviation: 0.19 million characters\n",
            "t-value: 2.98\n",
            "Margin of Error: 0.15 million characters\n",
            "99% Confidence Interval: (1.0901973384384906, 1.3871359948948425)\n"
          ]
        }
      ]
    },
    {
      "cell_type": "markdown",
      "source": [
        "#Part (b): Build 99% Confidence Interval Using Known Population Standard Deviation\n",
        "\n",
        "\n",
        "Use the Population Standard Deviation: In this case, the population standard deviation is given as\n",
        "0.2\n",
        "\n",
        "Follow similar steps as in Part a to calculate the margin of error but using the population standard deviation.\n",
        "\n",
        "Construct the Confidence Interval using the same formula."
      ],
      "metadata": {
        "id": "iwqnDCBtLU4X"
      }
    },
    {
      "cell_type": "code",
      "source": [
        "\n",
        "# (b): Confidence Interval using Known Population Standard Deviation\n",
        "population_std = 0.2\n",
        "margin_of_error_population = stats.norm.ppf((1 + confidence_level) / 2) * (population_std / np.sqrt(n))\n",
        "\n",
        "# Confidence Interval\n",
        "ci_population = (mean_sample - margin_of_error_population, mean_sample + margin_of_error_population)\n",
        "\n",
        "# Output for Part (b)\n",
        "print(\"\\nPart (b): 99% Confidence Interval using Known Population Standard Deviation\")\n",
        "print(f\"Population Standard Deviation: {population_std:.2f} million characters\")\n",
        "print(f\"Margin of Error: {margin_of_error_population:.2f} million characters\")\n",
        "print(f\"99% Confidence Interval: {ci_population}\")\n"
      ],
      "metadata": {
        "colab": {
          "base_uri": "https://localhost:8080/"
        },
        "id": "APB5FbKZKRPP",
        "outputId": "861b0b87-aa1c-4cb3-d3ca-a1889ed2d7e4"
      },
      "execution_count": null,
      "outputs": [
        {
          "output_type": "stream",
          "name": "stdout",
          "text": [
            "\n",
            "Part (b): 99% Confidence Interval using Known Population Standard Deviation\n",
            "Population Standard Deviation: 0.20 million characters\n",
            "Margin of Error: 0.13 million characters\n",
            "99% Confidence Interval: (1.1056514133957607, 1.3716819199375725)\n"
          ]
        }
      ]
    }
  ]
}