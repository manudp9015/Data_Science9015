{
  "nbformat": 4,
  "nbformat_minor": 0,
  "metadata": {
    "colab": {
      "provenance": []
    },
    "kernelspec": {
      "name": "python3",
      "display_name": "Python 3"
    },
    "language_info": {
      "name": "python"
    }
  },
  "cells": [
    {
      "cell_type": "markdown",
      "source": [
        "# Step 1: State the Hypotheses\n",
        "Null Hypothesis (H0): There is no association between device type and customer satisfaction.\n",
        "\n",
        "Alternative Hypothesis (H1): There is an association between device type and customer satisfaction."
      ],
      "metadata": {
        "id": "j-sl3NRVSJZy"
      }
    },
    {
      "cell_type": "code",
      "source": [
        "import scipy.stats as stats\n",
        "data = [\n",
        "    [50, 70],\n",
        "    [80, 100],\n",
        "    [60, 90],\n",
        "    [30, 50],\n",
        "    [20, 50]\n",
        "]"
      ],
      "metadata": {
        "id": "FRaTk_G_SSdp"
      },
      "execution_count": null,
      "outputs": []
    },
    {
      "cell_type": "markdown",
      "source": [
        "# Step 2: Compute the Chi-Square Statistic\n"
      ],
      "metadata": {
        "id": "AiSuMlaFSaVg"
      }
    },
    {
      "cell_type": "code",
      "source": [
        "chi2_stat, p_value, _, _ = stats.chi2_contingency(data)"
      ],
      "metadata": {
        "id": "qOfxOZVYSbuT"
      },
      "execution_count": null,
      "outputs": []
    },
    {
      "cell_type": "markdown",
      "source": [
        "# Step 3: Determine the Critical Value\n"
      ],
      "metadata": {
        "id": "oxiTKNV-Sxln"
      }
    },
    {
      "cell_type": "code",
      "source": [
        "alpha = 0.05\n",
        "degrees_of_freedom = (len(data) - 1) * (len(data[0]) - 1)\n",
        "critical_value = stats.chi2.ppf(1 - alpha, degrees_of_freedom)"
      ],
      "metadata": {
        "id": "P4NPOd9BSgHx"
      },
      "execution_count": null,
      "outputs": []
    },
    {
      "cell_type": "markdown",
      "source": [
        "# Step 4: Make a Decision\n"
      ],
      "metadata": {
        "id": "wyDgSVNLSp0m"
      }
    },
    {
      "cell_type": "code",
      "execution_count": null,
      "metadata": {
        "colab": {
          "base_uri": "https://localhost:8080/"
        },
        "id": "_KJuB18aSF-c",
        "outputId": "56ded9f9-f315-4035-fca8-2b97c62a3188"
      },
      "outputs": [
        {
          "output_type": "stream",
          "name": "stdout",
          "text": [
            "Chi-Square Statistic: 5.638227513227513\n",
            "P-Value: 0.22784371130697179\n",
            "Critical Value: 9.487729036781154\n",
            "Decision: Fail to reject the null hypothesis\n",
            "There is no significant association between device type and customer satisfaction.\n"
          ]
        }
      ],
      "source": [
        "if chi2_stat > critical_value:\n",
        "    decision = \"Reject the null hypothesis\"\n",
        "else:\n",
        "    decision = \"Fail to reject the null hypothesis\"\n",
        "\n",
        "print(\"Chi-Square Statistic:\", chi2_stat)\n",
        "print(\"P-Value:\", p_value)\n",
        "print(\"Critical Value:\", critical_value)\n",
        "print(\"Decision:\", decision)\n",
        "\n",
        "if decision == \"Reject the null hypothesis\":\n",
        "    print(\"There is a significant association between device type and customer satisfaction.\")\n",
        "else:\n",
        "    print(\"There is no significant association between device type and customer satisfaction.\")"
      ]
    },
    {
      "cell_type": "markdown",
      "source": [
        "Chi-Square Test for Independence\n",
        "Observed Data:\n",
        " [[ 50  70]\n",
        " [ 80 100]\n",
        " [ 60  90]\n",
        " [ 30  50]\n",
        " [ 20  50]]\n",
        "\n",
        " Expected Frequencies:\n",
        " [[ 48.  72.]\n",
        " [ 72. 108.]\n",
        " [ 60.  90.]\n",
        " [ 32.  48.]\n",
        " [ 28.  42.]]\n",
        "\n",
        "Chi-Square Statistic: 5.638227513227513\n",
        "\n",
        "Degrees of Freedom: 4\n",
        "\n",
        "Critical Value: 9.487729036781154\n",
        "\n",
        "P-value: 0.22784371130697179\n",
        "\n",
        "Reject the null hypothesis: False\n",
        "\n",
        "\n",
        "Conclusion: There is no significant association between the type of device and customer satisfaction level."
      ],
      "metadata": {
        "id": "Ii_IBJtgTSgf"
      }
    }
  ]
}