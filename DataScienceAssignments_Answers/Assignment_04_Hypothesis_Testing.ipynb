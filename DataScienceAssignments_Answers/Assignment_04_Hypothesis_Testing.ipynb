{
  "nbformat": 4,
  "nbformat_minor": 0,
  "metadata": {
    "colab": {
      "provenance": []
    },
    "kernelspec": {
      "name": "python3",
      "display_name": "Python 3"
    },
    "language_info": {
      "name": "python"
    }
  },
  "cells": [
    {
      "cell_type": "markdown",
      "source": [
        "\n",
        "# Step 1: State the Hypotheses\n",
        "Null Hypothesis (H0): The actual weekly operating cost is equal to the theoretical cost.\n",
        "Alternative Hypothesis (H1): The actual weekly operating cost is greater than the theoretical cost."
      ],
      "metadata": {
        "id": "59hUGwhyPLpb"
      }
    },
    {
      "cell_type": "code",
      "execution_count": null,
      "metadata": {
        "id": "tg9oKWNMPJwm"
      },
      "outputs": [],
      "source": [
        "import scipy.stats as stats\n",
        "\n",
        "# Given data\n",
        "sample_mean = 3050\n",
        "theoretical_mean = 1000 + 5 * 600\n",
        "standard_deviation = 5 * 25\n",
        "sample_size = 25\n",
        "alpha = 0.05"
      ]
    },
    {
      "cell_type": "markdown",
      "source": [
        "# Step 2: Calculate the Test Statistic"
      ],
      "metadata": {
        "id": "KLIYWwN2PlEP"
      }
    },
    {
      "cell_type": "code",
      "source": [
        "t = (sample_mean - theoretical_mean) / (standard_deviation / (sample_size ** 0.5))"
      ],
      "metadata": {
        "id": "w6Z3SvWJPbUF"
      },
      "execution_count": null,
      "outputs": []
    },
    {
      "cell_type": "markdown",
      "source": [
        "# Step 3: Determine the Critical Value\n"
      ],
      "metadata": {
        "id": "SD-Vc33WPosz"
      }
    },
    {
      "cell_type": "code",
      "source": [
        "critical_value = stats.norm.ppf(1 - alpha)"
      ],
      "metadata": {
        "id": "_6gh00aQPdGa"
      },
      "execution_count": null,
      "outputs": []
    },
    {
      "cell_type": "markdown",
      "source": [],
      "metadata": {
        "id": "Pg1DxgxZPrNj"
      }
    },
    {
      "cell_type": "markdown",
      "source": [
        "# Step 4: Make a Decision\n"
      ],
      "metadata": {
        "id": "0k5s45VqPq7k"
      }
    },
    {
      "cell_type": "code",
      "source": [
        "if t > critical_value:\n",
        "    decision = \"Reject the null hypothesis\"\n",
        "else:\n",
        "    decision = \"Fail to reject the null hypothesis\""
      ],
      "metadata": {
        "id": "oiWsFnEWPf-z"
      },
      "execution_count": null,
      "outputs": []
    },
    {
      "cell_type": "markdown",
      "source": [
        "# Step 5: Conclusion\n"
      ],
      "metadata": {
        "id": "m9h516tvPtZ6"
      }
    },
    {
      "cell_type": "code",
      "source": [
        "print(\"Test Statistic:\", t)\n",
        "print(\"Critical Value:\", critical_value)\n",
        "print(\"Decision:\", decision)\n",
        "\n",
        "if decision == \"Reject the null hypothesis\":\n",
        "    print(\"There is strong evidence to support the restaurant owners' claim that the weekly operating costs are higher than the model suggests.\")\n",
        "else:\n",
        "    print(\"There is not enough evidence to support the restaurant owners  claim.\")"
      ],
      "metadata": {
        "colab": {
          "base_uri": "https://localhost:8080/"
        },
        "id": "VTOK0fgUPhy8",
        "outputId": "8f4e18c7-d730-4cfd-ce99-4a144e13c5d2"
      },
      "execution_count": null,
      "outputs": [
        {
          "output_type": "stream",
          "name": "stdout",
          "text": [
            "Test Statistic: -38.0\n",
            "Critical Value: 1.6448536269514722\n",
            "Decision: Fail to reject the null hypothesis\n",
            "There is not enough evidence to support the restaurant owners' claim.\n"
          ]
        }
      ]
    },
    {
      "cell_type": "markdown",
      "source": [
        "1.Hypotheses Statement: The null hypothesis (H0) states that the observed mean weekly cost equals the theoretical mean, while the alternative hypothesis (H1) states that it is greater.\n",
        "\n",
        "2.Test Statistic Calculation:\n",
        "\n",
        "Calculate the theoretical mean weekly cost using the provided formula.\n",
        "\n",
        "Compute the standard deviation based on the number of units produced.\n",
        "\n",
        "Calculate the test statistic (t) using the formula provided.\n",
        "\n",
        "3.Critical Value Calculation: Use the scipy.stats library to obtain the critical value for a one-tailed test at a 5% significance level.\n",
        "\n",
        "4.Decision Making: Compare the calculated test statistic with the critical value to decide whether to reject the null hypothesis.\n",
        "\n",
        "5.Conclusion: Based on the decision, conclude whether there is strong evidence to support the claim about increased operating costs."
      ],
      "metadata": {
        "id": "Br6d9HZAQ_qE"
      }
    },
    {
      "cell_type": "markdown",
      "source": [],
      "metadata": {
        "id": "k-wR2nFMRPXK"
      }
    }
  ]
}